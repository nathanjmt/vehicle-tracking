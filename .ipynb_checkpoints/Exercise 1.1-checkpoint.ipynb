{
 "cells": [
  {
   "cell_type": "markdown",
   "metadata": {},
   "source": [
    "First we have to install the necessary libraries"
   ]
  },
  {
   "cell_type": "code",
   "execution_count": null,
   "metadata": {},
   "outputs": [],
   "source": [
    "import sys\n",
    "!{sys.executable} -m pip install pyttsx3\n",
    "!{sys.executable} -m pip install pyttsx3 pywin32\n",
    "!{sys.executable} -m pip install pyttsx3 numpy\n",
    "!{sys.executable} -m pip install pyttsx3 opencv-python"
   ]
  },
  {
   "cell_type": "code",
   "execution_count": 1,
   "metadata": {},
   "outputs": [],
   "source": [
    "import cv2\n",
    "# Create a VideoCapture object and read the frames from the video provided\n",
    "video=cv2.VideoCapture('Videos\\Traffic_Laramie_1.mp4')\n",
    "\n",
    "# Check if video is successfully opened\n",
    "if (video.isOpened()== False): \n",
    "  print(\"Error opening video file\")\n",
    "\n",
    "\n",
    "initial_frame = None\n",
    "\n",
    "\n",
    "# First we start an loop to keep reading frames from the video\n",
    "while True:\n",
    "    check, frame = video.read()\n",
    "    \n",
    "    #check if the video still has frames\n",
    "    if check == True:\n",
    "\n",
    "        #convert the frame to grayscale and reduce noise by using Gaussian Blur\n",
    "        gray_frame=cv2.cvtColor(frame,cv2.COLOR_BGR2GRAY)\n",
    "        blur_frame=cv2.GaussianBlur(gray_frame,(15,15), 0)\n",
    "\n",
    "\n",
    "        # The first frame captured is the baseline image\n",
    "        if initial_frame is None:\n",
    "            initial_frame = blur_frame\n",
    "            continue\n",
    "\n",
    "        # use absdiff for frame differencing between the baseline frame and the new frame\n",
    "        #the frames are being spliced to ensure that motion detection is only performed on the main road, as specified\n",
    "        delta_frame=cv2.absdiff(initial_frame[300:, 0:],blur_frame[300:, 0:])\n",
    "        # delta frameis converted into a binary image\n",
    "        \n",
    "        # If a particular pixel value is greater than a certain threshold (specified by us here as 10),\n",
    "\n",
    "        threshold_frame=cv2.threshold(delta_frame,10,255, cv2.THRESH_BINARY)[1]\n",
    "        #if a pixel value is greater than the threshold we set (10) it will be white. else it will be black\n",
    "\n",
    "\n",
    "        # The cv2.findContours() method identifies all the contours in the image.\n",
    "        (contours,_)=cv2.findContours(threshold_frame,cv2.RETR_TREE,cv2.CHAIN_APPROX_SIMPLE)\n",
    "\n",
    "        for c in contours:\n",
    "            # contourArea() method filters out any small contours\n",
    "            # this is to ensure that only cars are being detected\n",
    "            if cv2.contourArea(c) < 1200:\n",
    "                continue\n",
    "            #draw rectangles around the objects we have detected\n",
    "            #due to the frame splicing earlier, we have to shift the rectangles by the same values\n",
    "            (x, y, w, h)=cv2.boundingRect(c)\n",
    "            cv2.rectangle(frame[300:], (x, y), (x+w, y+h), (0,255,0), 1)\n",
    "\n",
    "\n",
    "        # produce video with motion detection for cars\n",
    "        cv2.imshow('Video', frame)\n",
    "        \n",
    "        # Stop the program by pressing 'q'    \n",
    "        if cv2.waitKey(1) == ord('q'):\n",
    "            break\n",
    "    \n",
    "    #end the video when there are no more frames\n",
    "    else:\n",
    "        break\n",
    "\n",
    "              \n",
    "# After the loop release the video object\n",
    "video.release()\n",
    "\n",
    "# Destroy all the windows\n",
    "cv2.destroyAllWindows()"
   ]
  }
 ],
 "metadata": {
  "kernelspec": {
   "display_name": "Python 3",
   "language": "python",
   "name": "python3"
  },
  "language_info": {
   "codemirror_mode": {
    "name": "ipython",
    "version": 3
   },
   "file_extension": ".py",
   "mimetype": "text/x-python",
   "name": "python",
   "nbconvert_exporter": "python",
   "pygments_lexer": "ipython3",
   "version": "3.8.5"
  }
 },
 "nbformat": 4,
 "nbformat_minor": 4
}
